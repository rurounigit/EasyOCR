{
  "nbformat": 4,
  "nbformat_minor": 0,
  "metadata": {
    "colab": {
      "provenance": [],
      "gpuType": "T4",
      "include_colab_link": true
    },
    "kernelspec": {
      "display_name": "Python 3",
      "name": "python3"
    },
    "accelerator": "GPU"
  },
  "cells": [
    {
      "cell_type": "markdown",
      "metadata": {
        "id": "view-in-github",
        "colab_type": "text"
      },
      "source": [
        "<a href=\"https://colab.research.google.com/github/rurounigit/EasyOCR/blob/master/easyocr.ipynb\" target=\"_parent\"><img src=\"https://colab.research.google.com/assets/colab-badge.svg\" alt=\"Open In Colab\"/></a>"
      ]
    },
    {
      "cell_type": "code",
      "source": [
        "from google.colab import drive\n",
        "drive.mount('/content/drive')"
      ],
      "metadata": {
        "colab": {
          "base_uri": "https://localhost:8080/"
        },
        "id": "y92eghQ1K64B",
        "outputId": "c5e3c0e7-33cf-4f1d-d6d1-9764f05e1337"
      },
      "execution_count": 69,
      "outputs": [
        {
          "output_type": "stream",
          "name": "stdout",
          "text": [
            "Drive already mounted at /content/drive; to attempt to forcibly remount, call drive.mount(\"/content/drive\", force_remount=True).\n"
          ]
        }
      ]
    },
    {
      "cell_type": "code",
      "source": [
        "import os"
      ],
      "metadata": {
        "id": "xUGz-BkHwA8d"
      },
      "execution_count": 70,
      "outputs": []
    },
    {
      "cell_type": "code",
      "source": [
        "import json"
      ],
      "metadata": {
        "id": "uGEM42i0UtcF"
      },
      "execution_count": 71,
      "outputs": []
    },
    {
      "cell_type": "code",
      "source": [
        "import numpy as np # Import numpy"
      ],
      "metadata": {
        "id": "zkfrUEvldv48"
      },
      "execution_count": 72,
      "outputs": []
    },
    {
      "cell_type": "code",
      "source": [
        "from PIL import Image, ImageDraw # Import Image and ImageDraw from PIL"
      ],
      "metadata": {
        "id": "43qv7cYcNHMn"
      },
      "execution_count": 73,
      "outputs": []
    },
    {
      "cell_type": "code",
      "source": [
        "image_folder = 'drive/MyDrive/easyocr'  # Replace with your folder path"
      ],
      "metadata": {
        "id": "ssY4G1vFwFGn"
      },
      "execution_count": 74,
      "outputs": []
    },
    {
      "cell_type": "code",
      "metadata": {
        "id": "lIYdn1woOS1n",
        "colab": {
          "base_uri": "https://localhost:8080/"
        },
        "outputId": "ac41991e-baf9-4453-dbb7-093b7e41a527"
      },
      "source": [
        "!pip install easyocr"
      ],
      "execution_count": 75,
      "outputs": [
        {
          "output_type": "stream",
          "name": "stdout",
          "text": [
            "Requirement already satisfied: easyocr in /usr/local/lib/python3.10/dist-packages (1.7.2)\n",
            "Requirement already satisfied: torch in /usr/local/lib/python3.10/dist-packages (from easyocr) (2.4.1+cu121)\n",
            "Requirement already satisfied: torchvision>=0.5 in /usr/local/lib/python3.10/dist-packages (from easyocr) (0.19.1+cu121)\n",
            "Requirement already satisfied: opencv-python-headless in /usr/local/lib/python3.10/dist-packages (from easyocr) (4.10.0.84)\n",
            "Requirement already satisfied: scipy in /usr/local/lib/python3.10/dist-packages (from easyocr) (1.13.1)\n",
            "Requirement already satisfied: numpy in /usr/local/lib/python3.10/dist-packages (from easyocr) (1.26.4)\n",
            "Requirement already satisfied: Pillow in /usr/local/lib/python3.10/dist-packages (from easyocr) (10.4.0)\n",
            "Requirement already satisfied: scikit-image in /usr/local/lib/python3.10/dist-packages (from easyocr) (0.24.0)\n",
            "Requirement already satisfied: python-bidi in /usr/local/lib/python3.10/dist-packages (from easyocr) (0.6.3)\n",
            "Requirement already satisfied: PyYAML in /usr/local/lib/python3.10/dist-packages (from easyocr) (6.0.2)\n",
            "Requirement already satisfied: Shapely in /usr/local/lib/python3.10/dist-packages (from easyocr) (2.0.6)\n",
            "Requirement already satisfied: pyclipper in /usr/local/lib/python3.10/dist-packages (from easyocr) (1.3.0.post6)\n",
            "Requirement already satisfied: ninja in /usr/local/lib/python3.10/dist-packages (from easyocr) (1.11.1.1)\n",
            "Requirement already satisfied: filelock in /usr/local/lib/python3.10/dist-packages (from torch->easyocr) (3.16.1)\n",
            "Requirement already satisfied: typing-extensions>=4.8.0 in /usr/local/lib/python3.10/dist-packages (from torch->easyocr) (4.12.2)\n",
            "Requirement already satisfied: sympy in /usr/local/lib/python3.10/dist-packages (from torch->easyocr) (1.13.3)\n",
            "Requirement already satisfied: networkx in /usr/local/lib/python3.10/dist-packages (from torch->easyocr) (3.4.1)\n",
            "Requirement already satisfied: jinja2 in /usr/local/lib/python3.10/dist-packages (from torch->easyocr) (3.1.4)\n",
            "Requirement already satisfied: fsspec in /usr/local/lib/python3.10/dist-packages (from torch->easyocr) (2024.6.1)\n",
            "Requirement already satisfied: imageio>=2.33 in /usr/local/lib/python3.10/dist-packages (from scikit-image->easyocr) (2.35.1)\n",
            "Requirement already satisfied: tifffile>=2022.8.12 in /usr/local/lib/python3.10/dist-packages (from scikit-image->easyocr) (2024.9.20)\n",
            "Requirement already satisfied: packaging>=21 in /usr/local/lib/python3.10/dist-packages (from scikit-image->easyocr) (24.1)\n",
            "Requirement already satisfied: lazy-loader>=0.4 in /usr/local/lib/python3.10/dist-packages (from scikit-image->easyocr) (0.4)\n",
            "Requirement already satisfied: MarkupSafe>=2.0 in /usr/local/lib/python3.10/dist-packages (from jinja2->torch->easyocr) (3.0.1)\n",
            "Requirement already satisfied: mpmath<1.4,>=1.1.0 in /usr/local/lib/python3.10/dist-packages (from sympy->torch->easyocr) (1.3.0)\n"
          ]
        }
      ]
    },
    {
      "cell_type": "code",
      "metadata": {
        "id": "gcDnhiCxtztL"
      },
      "source": [
        "# Create a reader to do OCR.\n",
        "# If you change to GPU instance, it will be faster. But CPU is enough.\n",
        "# (by MENU > Runtime > Change runtime type > GPU, then redo from beginning )\n",
        "import easyocr\n",
        "reader = easyocr.Reader(['en'])"
      ],
      "execution_count": 76,
      "outputs": []
    },
    {
      "cell_type": "code",
      "metadata": {
        "id": "d_OUXPmfvNkh"
      },
      "source": [
        "# Draw bounding boxes\n",
        "def draw_boxes(image, bounds, color='yellow', width=2):\n",
        "    draw = ImageDraw.Draw(image)\n",
        "    for bound in bounds:\n",
        "        p0, p1, p2, p3 = bound[0]\n",
        "        draw.line([*p0, *p1, *p2, *p3, *p0], fill=color, width=width)\n",
        "    return image\n",
        "\n"
      ],
      "execution_count": 77,
      "outputs": []
    },
    {
      "cell_type": "code",
      "source": [
        "# Convert NumPy int64 to native Python int before serialization\n",
        "def convert_to_json_serializable(obj):\n",
        "    \"\"\"\n",
        "    Recursively converts NumPy int64 to Python int in a nested dictionary or list.\n",
        "    \"\"\"\n",
        "    if isinstance(obj, np.int64):\n",
        "        return int(obj)  # Convert int64 to int\n",
        "    elif isinstance(obj, list):\n",
        "        return [convert_to_json_serializable(item) for item in obj]\n",
        "    elif isinstance(obj, tuple):  # Added to handle tuples\n",
        "        return tuple(convert_to_json_serializable(item) for item in obj)  # Convert tuples recursively\n",
        "    elif isinstance(obj, dict):\n",
        "        return {key: convert_to_json_serializable(value) for key, value in obj.items()}\n",
        "    else:\n",
        "        return obj"
      ],
      "metadata": {
        "id": "aO5FZoYOd77x"
      },
      "execution_count": 78,
      "outputs": []
    },
    {
      "cell_type": "code",
      "source": [
        "# Define the 4x4 coordinate pairs for the boxes\n",
        "box01 = [(50, 300), (250, 300), (250, 420), (57, 420)]\n",
        "box02 = [(50, 420), (250, 420), (250, 530), (57, 530)]\n",
        "box03 = [[645, 323], [689, 323], [689, 345], [649, 345]]\n",
        "box04 = [(719, 815), (767, 815), (767, 835), (719, 835)]\n",
        "\n",
        "# Function to check if a box is inside another box\n",
        "def is_inside(box, container):\n",
        "    # Assuming boxes are defined by top-left and bottom-right corners\n",
        "    # Adjust the logic if your boxes are defined differently\n",
        "    box_x1, box_y1 = box[0][0], box[0][1]  # Top-left corner of box\n",
        "    box_x2, box_y2 = box[2][0], box[2][1]  # Bottom-right corner of box\n",
        "    container_x1, container_y1 = container[0][0], container[0][1]  # Top-left corner of container\n",
        "    container_x2, container_y2 = container[2][0], container[2][1]  # Bottom-right corner of container\n",
        "\n",
        "    return (\n",
        "        container_x1 <= box_x1\n",
        "        and container_y1 <= box_y1\n",
        "        and container_x2 >= box_x2\n",
        "        and container_y2 >= box_y2\n",
        "    )"
      ],
      "metadata": {
        "id": "W-b9XWyKjUAT"
      },
      "execution_count": 79,
      "outputs": []
    },
    {
      "cell_type": "code",
      "source": [
        "simplified_results_all_images = {}  # Initialize before the loop"
      ],
      "metadata": {
        "id": "Sg0yYhmVnCff"
      },
      "execution_count": 80,
      "outputs": []
    },
    {
      "cell_type": "code",
      "source": [
        "\n",
        "for filename in os.listdir(image_folder):\n",
        "    if filename.endswith(('.jpg', '.png', '.jpeg')):\n",
        "        image_path = os.path.join(image_folder, filename)\n",
        "        im = Image.open(image_path)\n",
        "        bounds = reader.readtext(image_path, paragraph=False, detail=1, text_threshold=0.7, low_text=0.3)\n",
        "        #draw_boxes(im, bounds).save(f\"drive/MyDrive/easyocr/output/output_{filename}\") # to save image\n",
        "        #display(im) # to show images\n",
        "\n",
        "        # Process OCR results for the current image\n",
        "        filtered_results = {\n",
        "            \"box01\": [],\n",
        "            \"box02\": [],\n",
        "            \"box03\": [],\n",
        "            \"box04\": [],\n",
        "        }\n",
        "\n",
        "        for bound in bounds:\n",
        "            box = bound[0]\n",
        "            for box_name in filtered_results:\n",
        "                if is_inside(box, globals()[box_name]):\n",
        "                    filtered_results[box_name].append(bound)\n",
        "\n",
        "        filtered_results_serializable = convert_to_json_serializable(filtered_results)\n",
        "\n",
        "        # Simplify results for the current image\n",
        "        simplified_results = {}\n",
        "        for box_name, bounds_list in filtered_results_serializable.items():\n",
        "            simplified_results[box_name] = []\n",
        "            for bound in bounds_list:\n",
        "                simplified_results[box_name].append(bound[1])\n",
        "\n",
        "        # Store simplified results for the current image in the overall dictionary\n",
        "        simplified_results_all_images[filename] = simplified_results\n",
        ""
      ],
      "metadata": {
        "id": "Xeoq41nEw1Ni",
        "collapsed": true
      },
      "execution_count": 81,
      "outputs": []
    },
    {
      "cell_type": "code",
      "source": [
        "# Display the dictionary in pretty JSON format\n",
        "print(json.dumps(simplified_results_all_images, indent=4))"
      ],
      "metadata": {
        "colab": {
          "base_uri": "https://localhost:8080/"
        },
        "collapsed": true,
        "id": "1sb7GfYDkE2J",
        "outputId": "c28c8eef-7a82-41b3-93b4-8ebc4b76e401"
      },
      "execution_count": 85,
      "outputs": [
        {
          "output_type": "stream",
          "name": "stdout",
          "text": [
            "{\n",
            "    \"invoice-sample.jpg\": {\n",
            "        \"box01\": [\n",
            "            \"BILL TO:\",\n",
            "            \"John Doe\",\n",
            "            \"Alpha Bravo Road 33\",\n",
            "            \"P: 111-222-333,F: 111-222-334\",\n",
            "            \"client@example net\"\n",
            "        ],\n",
            "        \"box02\": [\n",
            "            \"SHIPPING TO:\",\n",
            "            \"John Doe Office\",\n",
            "            \"Office Road 38\",\n",
            "            \"P: 111-333-222,F: 122-222-334\",\n",
            "            \"office@example net\"\n",
            "        ],\n",
            "        \"box03\": [\n",
            "            \"OO001\"\n",
            "        ],\n",
            "        \"box04\": [\n",
            "            \"S302.5\"\n",
            "        ]\n",
            "    },\n",
            "    \"invoice-sample2.jpg\": {\n",
            "        \"box01\": [\n",
            "            \"BILL TO:\",\n",
            "            \"John Doe\",\n",
            "            \"Alpha Bravo Road 33\",\n",
            "            \"P: 111-222-333,F: 111-222-334\",\n",
            "            \"client@example net\"\n",
            "        ],\n",
            "        \"box02\": [\n",
            "            \"SHIPPING TO:\",\n",
            "            \"John Doe Office\",\n",
            "            \"Office Road 38\",\n",
            "            \"P: 111-333-222,F: 122-222-334\",\n",
            "            \"office@example net\"\n",
            "        ],\n",
            "        \"box03\": [\n",
            "            \"OO001\"\n",
            "        ],\n",
            "        \"box04\": [\n",
            "            \"S302.5\"\n",
            "        ]\n",
            "    }\n",
            "}\n"
          ]
        }
      ]
    }
  ]
}